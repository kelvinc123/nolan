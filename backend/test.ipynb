{
 "cells": [
  {
   "cell_type": "code",
   "execution_count": 71,
   "metadata": {},
   "outputs": [],
   "source": [
    "import geopy.distance\n",
    "import os\n",
    "from pymongo import MongoClient\n",
    "from dotenv import load_dotenv\n",
    "\n",
    "load_dotenv()\n",
    "MONGO_ADDR = os.environ[\"MONGO_ADDRESS\"]\n",
    "MONGO_PORT = os.environ[\"MONGO_PORT\"]\n",
    "DB_NAME = os.environ[\"MONGO_NOLAN_DB\"]\n",
    "API = os.environ[\"GOOGLE_API_KEY\"]"
   ]
  },
  {
   "cell_type": "code",
   "execution_count": 72,
   "metadata": {},
   "outputs": [],
   "source": [
    "client = MongoClient(f\"mongodb://{MONGO_ADDR}:{MONGO_PORT}/{DB_NAME}\")\n",
    "db = client[DB_NAME]"
   ]
  },
  {
   "cell_type": "code",
   "execution_count": 76,
   "metadata": {},
   "outputs": [
    {
     "data": {
      "text/plain": [
       "'kelvin'"
      ]
     },
     "execution_count": 76,
     "metadata": {},
     "output_type": "execute_result"
    }
   ],
   "source": [
    "k = db.users.find_one({\"email\": \"kelvinc@k.com\"})\n",
    "k[\"password\"]"
   ]
  },
  {
   "cell_type": "code",
   "execution_count": 4,
   "metadata": {},
   "outputs": [
    {
     "name": "stdout",
     "output_type": "stream",
     "text": [
      "173.5818455248231\n"
     ]
    }
   ],
   "source": [
    "coords_1 = (52.2296756, 21.0122287)\n",
    "coords_2 = (52.406374, 16.9251681)\n",
    "\n",
    "print(geopy.distance.geodesic(coords_1, coords_2).miles)"
   ]
  },
  {
   "cell_type": "code",
   "execution_count": 74,
   "metadata": {},
   "outputs": [],
   "source": [
    "import pandas as pd"
   ]
  },
  {
   "cell_type": "code",
   "execution_count": 75,
   "metadata": {},
   "outputs": [],
   "source": [
    "df = pd.read_csv(\"dataset/uszips.csv\")"
   ]
  },
  {
   "cell_type": "code",
   "execution_count": 85,
   "metadata": {},
   "outputs": [],
   "source": [
    "lat_lang_list = list(df[[\"lat\", \"lng\"]].apply(lambda x: (x[0], x[1]), axis=1).values)\n",
    "dist = [geopy.distance.geodesic(coords_1, lat_lang).miles for lat_lang in lat_lang_list]"
   ]
  },
  {
   "cell_type": "code",
   "execution_count": 1,
   "metadata": {},
   "outputs": [],
   "source": [
    "import requests"
   ]
  },
  {
   "cell_type": "code",
   "execution_count": 28,
   "metadata": {},
   "outputs": [
    {
     "data": {
      "text/plain": [
       "(52.2296756, 21.0122287)"
      ]
     },
     "execution_count": 28,
     "metadata": {},
     "output_type": "execute_result"
    }
   ],
   "source": [
    "coords_1"
   ]
  },
  {
   "cell_type": "code",
   "execution_count": 91,
   "metadata": {},
   "outputs": [],
   "source": [
    "url = f\"https://maps.googleapis.com/maps/api/geocode/json?address=la%disneyland&key={API}\""
   ]
  },
  {
   "cell_type": "code",
   "execution_count": 92,
   "metadata": {},
   "outputs": [],
   "source": [
    "# url = f'https://maps.googleapis.com/maps/api/geocode/json?latlng=37.67831758758746,-122.08425564442709&key={API}'\n",
    "response = requests.get(url)\n",
    "data = response.json()"
   ]
  },
  {
   "cell_type": "code",
   "execution_count": 96,
   "metadata": {},
   "outputs": [
    {
     "data": {
      "text/plain": [
       "[{'long_name': '1313', 'short_name': '1313', 'types': ['street_number']},\n",
       " {'long_name': 'Disneyland Drive',\n",
       "  'short_name': 'Disneyland Dr',\n",
       "  'types': ['route']},\n",
       " {'long_name': 'Anaheim Resort',\n",
       "  'short_name': 'Anaheim Resort',\n",
       "  'types': ['neighborhood', 'political']},\n",
       " {'long_name': 'Anaheim',\n",
       "  'short_name': 'Anaheim',\n",
       "  'types': ['locality', 'political']},\n",
       " {'long_name': 'Orange County',\n",
       "  'short_name': 'Orange County',\n",
       "  'types': ['administrative_area_level_2', 'political']},\n",
       " {'long_name': 'California',\n",
       "  'short_name': 'CA',\n",
       "  'types': ['administrative_area_level_1', 'political']},\n",
       " {'long_name': 'United States',\n",
       "  'short_name': 'US',\n",
       "  'types': ['country', 'political']},\n",
       " {'long_name': '92802', 'short_name': '92802', 'types': ['postal_code']}]"
      ]
     },
     "execution_count": 96,
     "metadata": {},
     "output_type": "execute_result"
    }
   ],
   "source": [
    "data[\"results\"][0][\"address_components\"]"
   ]
  },
  {
   "cell_type": "code",
   "execution_count": 97,
   "metadata": {},
   "outputs": [],
   "source": [
    "def get_zip_lat_lng_from_address(address):\n",
    "    address = address.replace(\" \", \"%20\")\n",
    "    url = f'https://maps.googleapis.com/maps/api/geocode/json?address={address}&key={API}'\n",
    "    response = requests.get(url)\n",
    "    data = response.json()\n",
    "\n",
    "    if data['status'] == 'OK':\n",
    "        result = data['results'][0]\n",
    "\n",
    "        # Extract zip code\n",
    "        zip_code = None\n",
    "        for component in result['address_components']:\n",
    "            if 'postal_code' in component['types']:\n",
    "                zip_code = component['short_name']\n",
    "                break\n",
    "\n",
    "        # Extract place type\n",
    "            place_type = None\n",
    "            if 'types' in result:\n",
    "                place_type = result['types'][0]\n",
    "\n",
    "        # Extract latitude and longitude\n",
    "        lat = result['geometry']['location']['lat']\n",
    "        lng = result['geometry']['location']['lng']\n",
    "\n",
    "        return {\n",
    "            \"zip_code\": zip_code,\n",
    "            \"latitude\": lat,\n",
    "            \"longitude\": lng,\n",
    "            \"place_type\": place_type\n",
    "        }\n",
    "\n",
    "    return {}"
   ]
  },
  {
   "cell_type": "code",
   "execution_count": 98,
   "metadata": {},
   "outputs": [
    {
     "data": {
      "text/plain": [
       "('92802', 33.8120918, -117.9189742)"
      ]
     },
     "execution_count": 98,
     "metadata": {},
     "output_type": "execute_result"
    }
   ],
   "source": [
    "get_zip_lat_lng_from_address(\"Los Angeles Disneyland\")"
   ]
  },
  {
   "cell_type": "code",
   "execution_count": null,
   "metadata": {},
   "outputs": [],
   "source": [
    "import requests\n",
    "\n",
    "def get_zip_code_from_lat_lng(latitude, longitude, api_key):\n",
    "    url = f'https://maps.googleapis.com/maps/api/geocode/json?latlng={latitude},{longitude}&key={api_key}'\n",
    "    response = requests.get(url)\n",
    "    data = response.json()\n",
    "\n",
    "    if data['status'] == 'OK':\n",
    "        for result in data['results']:\n",
    "            for component in result['address_components']:\n",
    "                if 'postal_code' in component['types']:\n",
    "                    return component['short_name']\n",
    "    return None\n",
    "\n",
    "api_key = 'YOUR_API_KEY'\n",
    "latitude = 37.4219999\n",
    "longitude = -122.0840575\n",
    "\n",
    "zip_code = get_zip_code_from_lat_lng(latitude, longitude, api_key)\n",
    "print(f'Zip code: {zip_code}')\n"
   ]
  }
 ],
 "metadata": {
  "kernelspec": {
   "display_name": "venv",
   "language": "python",
   "name": "python3"
  },
  "language_info": {
   "codemirror_mode": {
    "name": "ipython",
    "version": 3
   },
   "file_extension": ".py",
   "mimetype": "text/x-python",
   "name": "python",
   "nbconvert_exporter": "python",
   "pygments_lexer": "ipython3",
   "version": "3.10.9"
  },
  "orig_nbformat": 4
 },
 "nbformat": 4,
 "nbformat_minor": 2
}
